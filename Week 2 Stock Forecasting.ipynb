{
 "cells": [
  {
   "cell_type": "code",
   "execution_count": 502,
   "metadata": {},
   "outputs": [],
   "source": [
    "#Importing Libraries\n",
    "import numpy as np\n",
    "import pandas as pd\n",
    "import matplotlib.pyplot as plt\n",
    "from matplotlib import style\n",
    "import os\n",
    "from os import path\n",
    "from sklearn.linear_model import LinearRegression, Ridge, Lasso\n",
    "from sklearn import preprocessing, model_selection, svm\n",
    "from sklearn.model_selection import train_test_split\n",
    "from sklearn.ensemble import GradientBoostingRegressor\n",
    "from sklearn import metrics\n",
    "import datetime\n",
    "from datetime import datetime\n",
    "import time\n",
    "import math\n",
    "import statsmodels.graphics.tsaplots as sm\n",
    "from matplotlib import pyplot\n",
    "import statsmodels.tsa.stattools as st\n",
    "from sklearn import metrics"
   ]
  },
  {
   "cell_type": "code",
   "execution_count": 503,
   "metadata": {},
   "outputs": [],
   "source": [
    "os.chdir(\"C:\\\\Users\\\\ZEESHAN\\\\Python Study\\\\Python Finance\")"
   ]
  },
  {
   "cell_type": "code",
   "execution_count": 504,
   "metadata": {},
   "outputs": [],
   "source": [
    "if path.exists(\"AAPL.csv\"):\n",
    "    df=pd.read_csv(\"AAPL.csv\")"
   ]
  },
  {
   "cell_type": "code",
   "execution_count": 505,
   "metadata": {},
   "outputs": [],
   "source": [
    "#Exploratory Data Analysis"
   ]
  },
  {
   "cell_type": "code",
   "execution_count": 506,
   "metadata": {},
   "outputs": [
    {
     "data": {
      "text/plain": [
       "(250, 7)"
      ]
     },
     "execution_count": 506,
     "metadata": {},
     "output_type": "execute_result"
    }
   ],
   "source": [
    "df.shape "
   ]
  },
  {
   "cell_type": "code",
   "execution_count": 507,
   "metadata": {},
   "outputs": [
    {
     "data": {
      "text/html": [
       "<div>\n",
       "<style scoped>\n",
       "    .dataframe tbody tr th:only-of-type {\n",
       "        vertical-align: middle;\n",
       "    }\n",
       "\n",
       "    .dataframe tbody tr th {\n",
       "        vertical-align: top;\n",
       "    }\n",
       "\n",
       "    .dataframe thead th {\n",
       "        text-align: right;\n",
       "    }\n",
       "</style>\n",
       "<table border=\"1\" class=\"dataframe\">\n",
       "  <thead>\n",
       "    <tr style=\"text-align: right;\">\n",
       "      <th></th>\n",
       "      <th>Date</th>\n",
       "      <th>Open</th>\n",
       "      <th>High</th>\n",
       "      <th>Low</th>\n",
       "      <th>Close</th>\n",
       "      <th>Adj Close</th>\n",
       "      <th>Volume</th>\n",
       "    </tr>\n",
       "  </thead>\n",
       "  <tbody>\n",
       "    <tr>\n",
       "      <th>0</th>\n",
       "      <td>2018-09-10</td>\n",
       "      <td>220.949997</td>\n",
       "      <td>221.850006</td>\n",
       "      <td>216.470001</td>\n",
       "      <td>218.330002</td>\n",
       "      <td>214.993759</td>\n",
       "      <td>39516500</td>\n",
       "    </tr>\n",
       "    <tr>\n",
       "      <th>1</th>\n",
       "      <td>2018-09-11</td>\n",
       "      <td>218.009995</td>\n",
       "      <td>224.300003</td>\n",
       "      <td>216.559998</td>\n",
       "      <td>223.850006</td>\n",
       "      <td>220.429443</td>\n",
       "      <td>35749000</td>\n",
       "    </tr>\n",
       "    <tr>\n",
       "      <th>2</th>\n",
       "      <td>2018-09-12</td>\n",
       "      <td>224.940002</td>\n",
       "      <td>225.000000</td>\n",
       "      <td>219.839996</td>\n",
       "      <td>221.070007</td>\n",
       "      <td>217.691925</td>\n",
       "      <td>49278700</td>\n",
       "    </tr>\n",
       "    <tr>\n",
       "      <th>3</th>\n",
       "      <td>2018-09-13</td>\n",
       "      <td>223.520004</td>\n",
       "      <td>228.350006</td>\n",
       "      <td>222.570007</td>\n",
       "      <td>226.410004</td>\n",
       "      <td>222.950317</td>\n",
       "      <td>41706400</td>\n",
       "    </tr>\n",
       "    <tr>\n",
       "      <th>4</th>\n",
       "      <td>2018-09-14</td>\n",
       "      <td>225.750000</td>\n",
       "      <td>226.839996</td>\n",
       "      <td>222.520004</td>\n",
       "      <td>223.839996</td>\n",
       "      <td>220.419571</td>\n",
       "      <td>31999300</td>\n",
       "    </tr>\n",
       "  </tbody>\n",
       "</table>\n",
       "</div>"
      ],
      "text/plain": [
       "         Date        Open        High         Low       Close   Adj Close  \\\n",
       "0  2018-09-10  220.949997  221.850006  216.470001  218.330002  214.993759   \n",
       "1  2018-09-11  218.009995  224.300003  216.559998  223.850006  220.429443   \n",
       "2  2018-09-12  224.940002  225.000000  219.839996  221.070007  217.691925   \n",
       "3  2018-09-13  223.520004  228.350006  222.570007  226.410004  222.950317   \n",
       "4  2018-09-14  225.750000  226.839996  222.520004  223.839996  220.419571   \n",
       "\n",
       "     Volume  \n",
       "0  39516500  \n",
       "1  35749000  \n",
       "2  49278700  \n",
       "3  41706400  \n",
       "4  31999300  "
      ]
     },
     "execution_count": 507,
     "metadata": {},
     "output_type": "execute_result"
    }
   ],
   "source": [
    "df.head()"
   ]
  },
  {
   "cell_type": "code",
   "execution_count": 508,
   "metadata": {},
   "outputs": [
    {
     "data": {
      "text/html": [
       "<div>\n",
       "<style scoped>\n",
       "    .dataframe tbody tr th:only-of-type {\n",
       "        vertical-align: middle;\n",
       "    }\n",
       "\n",
       "    .dataframe tbody tr th {\n",
       "        vertical-align: top;\n",
       "    }\n",
       "\n",
       "    .dataframe thead th {\n",
       "        text-align: right;\n",
       "    }\n",
       "</style>\n",
       "<table border=\"1\" class=\"dataframe\">\n",
       "  <thead>\n",
       "    <tr style=\"text-align: right;\">\n",
       "      <th></th>\n",
       "      <th>Date</th>\n",
       "      <th>Open</th>\n",
       "      <th>High</th>\n",
       "      <th>Low</th>\n",
       "      <th>Close</th>\n",
       "      <th>Adj Close</th>\n",
       "      <th>Volume</th>\n",
       "    </tr>\n",
       "  </thead>\n",
       "  <tbody>\n",
       "    <tr>\n",
       "      <th>245</th>\n",
       "      <td>2019-08-30</td>\n",
       "      <td>210.160004</td>\n",
       "      <td>210.449997</td>\n",
       "      <td>207.199997</td>\n",
       "      <td>208.740005</td>\n",
       "      <td>208.740005</td>\n",
       "      <td>21143400</td>\n",
       "    </tr>\n",
       "    <tr>\n",
       "      <th>246</th>\n",
       "      <td>2019-09-03</td>\n",
       "      <td>206.429993</td>\n",
       "      <td>206.979996</td>\n",
       "      <td>204.220001</td>\n",
       "      <td>205.699997</td>\n",
       "      <td>205.699997</td>\n",
       "      <td>20023000</td>\n",
       "    </tr>\n",
       "    <tr>\n",
       "      <th>247</th>\n",
       "      <td>2019-09-04</td>\n",
       "      <td>208.389999</td>\n",
       "      <td>209.479996</td>\n",
       "      <td>207.320007</td>\n",
       "      <td>209.190002</td>\n",
       "      <td>209.190002</td>\n",
       "      <td>19188100</td>\n",
       "    </tr>\n",
       "    <tr>\n",
       "      <th>248</th>\n",
       "      <td>2019-09-05</td>\n",
       "      <td>212.000000</td>\n",
       "      <td>213.970001</td>\n",
       "      <td>211.509995</td>\n",
       "      <td>213.279999</td>\n",
       "      <td>213.279999</td>\n",
       "      <td>23913700</td>\n",
       "    </tr>\n",
       "    <tr>\n",
       "      <th>249</th>\n",
       "      <td>2019-09-06</td>\n",
       "      <td>214.050003</td>\n",
       "      <td>214.419998</td>\n",
       "      <td>212.509995</td>\n",
       "      <td>213.259995</td>\n",
       "      <td>213.259995</td>\n",
       "      <td>19350800</td>\n",
       "    </tr>\n",
       "  </tbody>\n",
       "</table>\n",
       "</div>"
      ],
      "text/plain": [
       "           Date        Open        High         Low       Close   Adj Close  \\\n",
       "245  2019-08-30  210.160004  210.449997  207.199997  208.740005  208.740005   \n",
       "246  2019-09-03  206.429993  206.979996  204.220001  205.699997  205.699997   \n",
       "247  2019-09-04  208.389999  209.479996  207.320007  209.190002  209.190002   \n",
       "248  2019-09-05  212.000000  213.970001  211.509995  213.279999  213.279999   \n",
       "249  2019-09-06  214.050003  214.419998  212.509995  213.259995  213.259995   \n",
       "\n",
       "       Volume  \n",
       "245  21143400  \n",
       "246  20023000  \n",
       "247  19188100  \n",
       "248  23913700  \n",
       "249  19350800  "
      ]
     },
     "execution_count": 508,
     "metadata": {},
     "output_type": "execute_result"
    }
   ],
   "source": [
    "df.tail()"
   ]
  },
  {
   "cell_type": "code",
   "execution_count": 509,
   "metadata": {},
   "outputs": [
    {
     "data": {
      "text/plain": [
       "Index(['Date', 'Open', 'High', 'Low', 'Close', 'Adj Close', 'Volume'], dtype='object')"
      ]
     },
     "execution_count": 509,
     "metadata": {},
     "output_type": "execute_result"
    }
   ],
   "source": [
    "df.columns"
   ]
  },
  {
   "cell_type": "code",
   "execution_count": 510,
   "metadata": {},
   "outputs": [],
   "source": [
    "#Converting Date to Index"
   ]
  },
  {
   "cell_type": "code",
   "execution_count": 511,
   "metadata": {},
   "outputs": [],
   "source": [
    "df['Date']=pd.to_datetime(df['Date'])"
   ]
  },
  {
   "cell_type": "code",
   "execution_count": 512,
   "metadata": {},
   "outputs": [],
   "source": [
    "df.set_index('Date',inplace=True)"
   ]
  },
  {
   "cell_type": "code",
   "execution_count": 513,
   "metadata": {},
   "outputs": [
    {
     "data": {
      "text/html": [
       "<div>\n",
       "<style scoped>\n",
       "    .dataframe tbody tr th:only-of-type {\n",
       "        vertical-align: middle;\n",
       "    }\n",
       "\n",
       "    .dataframe tbody tr th {\n",
       "        vertical-align: top;\n",
       "    }\n",
       "\n",
       "    .dataframe thead th {\n",
       "        text-align: right;\n",
       "    }\n",
       "</style>\n",
       "<table border=\"1\" class=\"dataframe\">\n",
       "  <thead>\n",
       "    <tr style=\"text-align: right;\">\n",
       "      <th></th>\n",
       "      <th>Open</th>\n",
       "      <th>High</th>\n",
       "      <th>Low</th>\n",
       "      <th>Close</th>\n",
       "      <th>Adj Close</th>\n",
       "      <th>Volume</th>\n",
       "    </tr>\n",
       "    <tr>\n",
       "      <th>Date</th>\n",
       "      <th></th>\n",
       "      <th></th>\n",
       "      <th></th>\n",
       "      <th></th>\n",
       "      <th></th>\n",
       "      <th></th>\n",
       "    </tr>\n",
       "  </thead>\n",
       "  <tbody>\n",
       "    <tr>\n",
       "      <th>2018-09-10</th>\n",
       "      <td>220.949997</td>\n",
       "      <td>221.850006</td>\n",
       "      <td>216.470001</td>\n",
       "      <td>218.330002</td>\n",
       "      <td>214.993759</td>\n",
       "      <td>39516500</td>\n",
       "    </tr>\n",
       "    <tr>\n",
       "      <th>2018-09-11</th>\n",
       "      <td>218.009995</td>\n",
       "      <td>224.300003</td>\n",
       "      <td>216.559998</td>\n",
       "      <td>223.850006</td>\n",
       "      <td>220.429443</td>\n",
       "      <td>35749000</td>\n",
       "    </tr>\n",
       "    <tr>\n",
       "      <th>2018-09-12</th>\n",
       "      <td>224.940002</td>\n",
       "      <td>225.000000</td>\n",
       "      <td>219.839996</td>\n",
       "      <td>221.070007</td>\n",
       "      <td>217.691925</td>\n",
       "      <td>49278700</td>\n",
       "    </tr>\n",
       "    <tr>\n",
       "      <th>2018-09-13</th>\n",
       "      <td>223.520004</td>\n",
       "      <td>228.350006</td>\n",
       "      <td>222.570007</td>\n",
       "      <td>226.410004</td>\n",
       "      <td>222.950317</td>\n",
       "      <td>41706400</td>\n",
       "    </tr>\n",
       "    <tr>\n",
       "      <th>2018-09-14</th>\n",
       "      <td>225.750000</td>\n",
       "      <td>226.839996</td>\n",
       "      <td>222.520004</td>\n",
       "      <td>223.839996</td>\n",
       "      <td>220.419571</td>\n",
       "      <td>31999300</td>\n",
       "    </tr>\n",
       "  </tbody>\n",
       "</table>\n",
       "</div>"
      ],
      "text/plain": [
       "                  Open        High         Low       Close   Adj Close  \\\n",
       "Date                                                                     \n",
       "2018-09-10  220.949997  221.850006  216.470001  218.330002  214.993759   \n",
       "2018-09-11  218.009995  224.300003  216.559998  223.850006  220.429443   \n",
       "2018-09-12  224.940002  225.000000  219.839996  221.070007  217.691925   \n",
       "2018-09-13  223.520004  228.350006  222.570007  226.410004  222.950317   \n",
       "2018-09-14  225.750000  226.839996  222.520004  223.839996  220.419571   \n",
       "\n",
       "              Volume  \n",
       "Date                  \n",
       "2018-09-10  39516500  \n",
       "2018-09-11  35749000  \n",
       "2018-09-12  49278700  \n",
       "2018-09-13  41706400  \n",
       "2018-09-14  31999300  "
      ]
     },
     "execution_count": 513,
     "metadata": {},
     "output_type": "execute_result"
    }
   ],
   "source": [
    "df.head()"
   ]
  },
  {
   "cell_type": "code",
   "execution_count": 514,
   "metadata": {},
   "outputs": [
    {
     "name": "stdout",
     "output_type": "stream",
     "text": [
      "<class 'pandas.core.frame.DataFrame'>\n",
      "DatetimeIndex: 250 entries, 2018-09-10 to 2019-09-06\n",
      "Data columns (total 6 columns):\n",
      "Open         250 non-null float64\n",
      "High         250 non-null float64\n",
      "Low          250 non-null float64\n",
      "Close        250 non-null float64\n",
      "Adj Close    250 non-null float64\n",
      "Volume       250 non-null int64\n",
      "dtypes: float64(5), int64(1)\n",
      "memory usage: 13.7 KB\n"
     ]
    }
   ],
   "source": [
    "df.info()   #columns and Datatypes"
   ]
  },
  {
   "cell_type": "code",
   "execution_count": 515,
   "metadata": {},
   "outputs": [
    {
     "data": {
      "text/html": [
       "<div>\n",
       "<style scoped>\n",
       "    .dataframe tbody tr th:only-of-type {\n",
       "        vertical-align: middle;\n",
       "    }\n",
       "\n",
       "    .dataframe tbody tr th {\n",
       "        vertical-align: top;\n",
       "    }\n",
       "\n",
       "    .dataframe thead th {\n",
       "        text-align: right;\n",
       "    }\n",
       "</style>\n",
       "<table border=\"1\" class=\"dataframe\">\n",
       "  <thead>\n",
       "    <tr style=\"text-align: right;\">\n",
       "      <th></th>\n",
       "      <th>Open</th>\n",
       "      <th>High</th>\n",
       "      <th>Low</th>\n",
       "      <th>Close</th>\n",
       "      <th>Adj Close</th>\n",
       "      <th>Volume</th>\n",
       "    </tr>\n",
       "  </thead>\n",
       "  <tbody>\n",
       "    <tr>\n",
       "      <th>count</th>\n",
       "      <td>250.000000</td>\n",
       "      <td>250.000000</td>\n",
       "      <td>250.000000</td>\n",
       "      <td>250.000000</td>\n",
       "      <td>250.000000</td>\n",
       "      <td>2.500000e+02</td>\n",
       "    </tr>\n",
       "    <tr>\n",
       "      <th>mean</th>\n",
       "      <td>192.092360</td>\n",
       "      <td>194.140440</td>\n",
       "      <td>190.083600</td>\n",
       "      <td>192.116880</td>\n",
       "      <td>190.507695</td>\n",
       "      <td>3.258498e+07</td>\n",
       "    </tr>\n",
       "    <tr>\n",
       "      <th>std</th>\n",
       "      <td>21.062178</td>\n",
       "      <td>21.207069</td>\n",
       "      <td>20.938713</td>\n",
       "      <td>21.009097</td>\n",
       "      <td>20.814951</td>\n",
       "      <td>1.394851e+07</td>\n",
       "    </tr>\n",
       "    <tr>\n",
       "      <th>min</th>\n",
       "      <td>143.979996</td>\n",
       "      <td>145.720001</td>\n",
       "      <td>142.000000</td>\n",
       "      <td>142.190002</td>\n",
       "      <td>140.505798</td>\n",
       "      <td>1.136200e+07</td>\n",
       "    </tr>\n",
       "    <tr>\n",
       "      <th>25%</th>\n",
       "      <td>174.737499</td>\n",
       "      <td>175.902496</td>\n",
       "      <td>173.362499</td>\n",
       "      <td>174.757499</td>\n",
       "      <td>173.279304</td>\n",
       "      <td>2.289640e+07</td>\n",
       "    </tr>\n",
       "    <tr>\n",
       "      <th>50%</th>\n",
       "      <td>196.364998</td>\n",
       "      <td>198.750000</td>\n",
       "      <td>193.805000</td>\n",
       "      <td>196.345001</td>\n",
       "      <td>195.165612</td>\n",
       "      <td>2.942395e+07</td>\n",
       "    </tr>\n",
       "    <tr>\n",
       "      <th>75%</th>\n",
       "      <td>207.449997</td>\n",
       "      <td>209.089996</td>\n",
       "      <td>205.104996</td>\n",
       "      <td>207.479996</td>\n",
       "      <td>206.476417</td>\n",
       "      <td>3.897412e+07</td>\n",
       "    </tr>\n",
       "    <tr>\n",
       "      <th>max</th>\n",
       "      <td>230.779999</td>\n",
       "      <td>233.470001</td>\n",
       "      <td>229.779999</td>\n",
       "      <td>232.070007</td>\n",
       "      <td>228.523819</td>\n",
       "      <td>9.624670e+07</td>\n",
       "    </tr>\n",
       "  </tbody>\n",
       "</table>\n",
       "</div>"
      ],
      "text/plain": [
       "             Open        High         Low       Close   Adj Close  \\\n",
       "count  250.000000  250.000000  250.000000  250.000000  250.000000   \n",
       "mean   192.092360  194.140440  190.083600  192.116880  190.507695   \n",
       "std     21.062178   21.207069   20.938713   21.009097   20.814951   \n",
       "min    143.979996  145.720001  142.000000  142.190002  140.505798   \n",
       "25%    174.737499  175.902496  173.362499  174.757499  173.279304   \n",
       "50%    196.364998  198.750000  193.805000  196.345001  195.165612   \n",
       "75%    207.449997  209.089996  205.104996  207.479996  206.476417   \n",
       "max    230.779999  233.470001  229.779999  232.070007  228.523819   \n",
       "\n",
       "             Volume  \n",
       "count  2.500000e+02  \n",
       "mean   3.258498e+07  \n",
       "std    1.394851e+07  \n",
       "min    1.136200e+07  \n",
       "25%    2.289640e+07  \n",
       "50%    2.942395e+07  \n",
       "75%    3.897412e+07  \n",
       "max    9.624670e+07  "
      ]
     },
     "execution_count": 515,
     "metadata": {},
     "output_type": "execute_result"
    }
   ],
   "source": [
    "df.describe()  #Summary Statistics\n"
   ]
  },
  {
   "cell_type": "code",
   "execution_count": 516,
   "metadata": {},
   "outputs": [
    {
     "data": {
      "text/html": [
       "<div>\n",
       "<style scoped>\n",
       "    .dataframe tbody tr th:only-of-type {\n",
       "        vertical-align: middle;\n",
       "    }\n",
       "\n",
       "    .dataframe tbody tr th {\n",
       "        vertical-align: top;\n",
       "    }\n",
       "\n",
       "    .dataframe thead th {\n",
       "        text-align: right;\n",
       "    }\n",
       "</style>\n",
       "<table border=\"1\" class=\"dataframe\">\n",
       "  <thead>\n",
       "    <tr style=\"text-align: right;\">\n",
       "      <th></th>\n",
       "      <th>Open</th>\n",
       "      <th>High</th>\n",
       "      <th>Low</th>\n",
       "      <th>Close</th>\n",
       "      <th>Adj Close</th>\n",
       "      <th>Volume</th>\n",
       "    </tr>\n",
       "  </thead>\n",
       "  <tbody>\n",
       "    <tr>\n",
       "      <th>Open</th>\n",
       "      <td>1.000000</td>\n",
       "      <td>0.997186</td>\n",
       "      <td>0.995706</td>\n",
       "      <td>0.992602</td>\n",
       "      <td>0.991302</td>\n",
       "      <td>-0.165963</td>\n",
       "    </tr>\n",
       "    <tr>\n",
       "      <th>High</th>\n",
       "      <td>0.997186</td>\n",
       "      <td>1.000000</td>\n",
       "      <td>0.995246</td>\n",
       "      <td>0.995906</td>\n",
       "      <td>0.994256</td>\n",
       "      <td>-0.146977</td>\n",
       "    </tr>\n",
       "    <tr>\n",
       "      <th>Low</th>\n",
       "      <td>0.995706</td>\n",
       "      <td>0.995246</td>\n",
       "      <td>1.000000</td>\n",
       "      <td>0.996906</td>\n",
       "      <td>0.996587</td>\n",
       "      <td>-0.213444</td>\n",
       "    </tr>\n",
       "    <tr>\n",
       "      <th>Close</th>\n",
       "      <td>0.992602</td>\n",
       "      <td>0.995906</td>\n",
       "      <td>0.996906</td>\n",
       "      <td>1.000000</td>\n",
       "      <td>0.998925</td>\n",
       "      <td>-0.193949</td>\n",
       "    </tr>\n",
       "    <tr>\n",
       "      <th>Adj Close</th>\n",
       "      <td>0.991302</td>\n",
       "      <td>0.994256</td>\n",
       "      <td>0.996587</td>\n",
       "      <td>0.998925</td>\n",
       "      <td>1.000000</td>\n",
       "      <td>-0.211065</td>\n",
       "    </tr>\n",
       "    <tr>\n",
       "      <th>Volume</th>\n",
       "      <td>-0.165963</td>\n",
       "      <td>-0.146977</td>\n",
       "      <td>-0.213444</td>\n",
       "      <td>-0.193949</td>\n",
       "      <td>-0.211065</td>\n",
       "      <td>1.000000</td>\n",
       "    </tr>\n",
       "  </tbody>\n",
       "</table>\n",
       "</div>"
      ],
      "text/plain": [
       "               Open      High       Low     Close  Adj Close    Volume\n",
       "Open       1.000000  0.997186  0.995706  0.992602   0.991302 -0.165963\n",
       "High       0.997186  1.000000  0.995246  0.995906   0.994256 -0.146977\n",
       "Low        0.995706  0.995246  1.000000  0.996906   0.996587 -0.213444\n",
       "Close      0.992602  0.995906  0.996906  1.000000   0.998925 -0.193949\n",
       "Adj Close  0.991302  0.994256  0.996587  0.998925   1.000000 -0.211065\n",
       "Volume    -0.165963 -0.146977 -0.213444 -0.193949  -0.211065  1.000000"
      ]
     },
     "execution_count": 516,
     "metadata": {},
     "output_type": "execute_result"
    }
   ],
   "source": [
    "df.corr()    #Correlation matrix"
   ]
  },
  {
   "cell_type": "code",
   "execution_count": 517,
   "metadata": {},
   "outputs": [],
   "source": [
    "#Visualizing Data"
   ]
  },
  {
   "cell_type": "code",
   "execution_count": 518,
   "metadata": {},
   "outputs": [
    {
     "data": {
      "text/plain": [
       "<matplotlib.legend.Legend at 0x163647209e8>"
      ]
     },
     "execution_count": 518,
     "metadata": {},
     "output_type": "execute_result"
    },
    {
     "data": {
      "image/png": "[encoded data removed]",
      "text/plain": [
       "<Figure size 1152x576 with 1 Axes>"
      ]
     },
     "metadata": {},
     "output_type": "display_data"
    }
   ],
   "source": [
    "df['Open'].plot(label='Open',figsize=(16,8),title='AAPL')\n",
    "df['Close'].plot(label='Close')\n",
    "df['Adj Close'].plot(label='Adj Close')\n",
    "plt.legend()"
   ]
  },
  {
   "cell_type": "code",
   "execution_count": 519,
   "metadata": {},
   "outputs": [
    {
     "data": {
      "text/plain": [
       "<matplotlib.legend.Legend at 0x1636454f630>"
      ]
     },
     "execution_count": 519,
     "metadata": {},
     "output_type": "execute_result"
    },
    {
     "data": {
      "image/png": "[encoded data removed]",
      "text/plain": [
       "<Figure size 1152x576 with 1 Axes>"
      ]
     },
     "metadata": {},
     "output_type": "display_data"
    }
   ],
   "source": [
    "df['Volume'].plot(label='Volume',figsize=(16,8),title='AAPL')\n",
    "plt.legend()"
   ]
  },
  {
   "cell_type": "code",
   "execution_count": 520,
   "metadata": {},
   "outputs": [],
   "source": [
    "forecast_out=int(math.ceil(0.04*len(df)))  #10 records of the data"
   ]
  },
  {
   "cell_type": "code",
   "execution_count": 521,
   "metadata": {},
   "outputs": [
    {
     "data": {
      "text/plain": [
       "10"
      ]
     },
     "execution_count": 521,
     "metadata": {},
     "output_type": "execute_result"
    }
   ],
   "source": [
    "forecast_out"
   ]
  },
  {
   "cell_type": "code",
   "execution_count": 522,
   "metadata": {},
   "outputs": [],
   "source": [
    "forecast_col='Adj Close'   #We will focus on Adj Close for forecasting"
   ]
  },
  {
   "cell_type": "code",
   "execution_count": 523,
   "metadata": {},
   "outputs": [
    {
     "data": {
      "image/png": "[encoded data removed]",
      "text/plain": [
       "<Figure size 432x288 with 1 Axes>"
      ]
     },
     "metadata": {},
     "output_type": "display_data"
    }
   ],
   "source": [
    "sm.plot_acf(df['Adj Close'])   #Auto Correlation plot for Adj Close\n",
    "pyplot.show()"
   ]
  },
  {
   "cell_type": "code",
   "execution_count": 524,
   "metadata": {
    "scrolled": true
   },
   "outputs": [
    {
     "data": {
      "image/png": "[encoded data removed]",
      "text/plain": [
       "<Figure size 432x288 with 1 Axes>"
      ]
     },
     "metadata": {},
     "output_type": "display_data"
    }
   ],
   "source": [
    "sm.plot_pacf(df['Adj Close'],lags=25)\n",
    "pyplot.show()"
   ]
  },
  {
   "cell_type": "code",
   "execution_count": 525,
   "metadata": {},
   "outputs": [],
   "source": [
    "df_orig=df"
   ]
  },
  {
   "cell_type": "code",
   "execution_count": 526,
   "metadata": {},
   "outputs": [],
   "source": [
    "df['label']=df[forecast_col].shift(-forecast_out)"
   ]
  },
  {
   "cell_type": "code",
   "execution_count": 527,
   "metadata": {},
   "outputs": [
    {
     "data": {
      "text/html": [
       "<div>\n",
       "<style scoped>\n",
       "    .dataframe tbody tr th:only-of-type {\n",
       "        vertical-align: middle;\n",
       "    }\n",
       "\n",
       "    .dataframe tbody tr th {\n",
       "        vertical-align: top;\n",
       "    }\n",
       "\n",
       "    .dataframe thead th {\n",
       "        text-align: right;\n",
       "    }\n",
       "</style>\n",
       "<table border=\"1\" class=\"dataframe\">\n",
       "  <thead>\n",
       "    <tr style=\"text-align: right;\">\n",
       "      <th></th>\n",
       "      <th>Open</th>\n",
       "      <th>High</th>\n",
       "      <th>Low</th>\n",
       "      <th>Close</th>\n",
       "      <th>Adj Close</th>\n",
       "      <th>Volume</th>\n",
       "      <th>label</th>\n",
       "    </tr>\n",
       "    <tr>\n",
       "      <th>Date</th>\n",
       "      <th></th>\n",
       "      <th></th>\n",
       "      <th></th>\n",
       "      <th></th>\n",
       "      <th></th>\n",
       "      <th></th>\n",
       "      <th></th>\n",
       "    </tr>\n",
       "  </thead>\n",
       "  <tbody>\n",
       "    <tr>\n",
       "      <th>2019-08-16</th>\n",
       "      <td>204.279999</td>\n",
       "      <td>207.160004</td>\n",
       "      <td>203.839996</td>\n",
       "      <td>206.500000</td>\n",
       "      <td>206.500000</td>\n",
       "      <td>27620400</td>\n",
       "      <td>208.740005</td>\n",
       "    </tr>\n",
       "    <tr>\n",
       "      <th>2019-08-19</th>\n",
       "      <td>210.619995</td>\n",
       "      <td>212.729996</td>\n",
       "      <td>210.029999</td>\n",
       "      <td>210.350006</td>\n",
       "      <td>210.350006</td>\n",
       "      <td>24413600</td>\n",
       "      <td>205.699997</td>\n",
       "    </tr>\n",
       "    <tr>\n",
       "      <th>2019-08-20</th>\n",
       "      <td>210.880005</td>\n",
       "      <td>213.350006</td>\n",
       "      <td>210.320007</td>\n",
       "      <td>210.360001</td>\n",
       "      <td>210.360001</td>\n",
       "      <td>26884300</td>\n",
       "      <td>209.190002</td>\n",
       "    </tr>\n",
       "    <tr>\n",
       "      <th>2019-08-21</th>\n",
       "      <td>212.990005</td>\n",
       "      <td>213.649994</td>\n",
       "      <td>211.600006</td>\n",
       "      <td>212.639999</td>\n",
       "      <td>212.639999</td>\n",
       "      <td>21535400</td>\n",
       "      <td>213.279999</td>\n",
       "    </tr>\n",
       "    <tr>\n",
       "      <th>2019-08-22</th>\n",
       "      <td>213.190002</td>\n",
       "      <td>214.440002</td>\n",
       "      <td>210.750000</td>\n",
       "      <td>212.460007</td>\n",
       "      <td>212.460007</td>\n",
       "      <td>22253700</td>\n",
       "      <td>213.259995</td>\n",
       "    </tr>\n",
       "    <tr>\n",
       "      <th>2019-08-23</th>\n",
       "      <td>209.429993</td>\n",
       "      <td>212.050003</td>\n",
       "      <td>201.000000</td>\n",
       "      <td>202.639999</td>\n",
       "      <td>202.639999</td>\n",
       "      <td>46818000</td>\n",
       "      <td>NaN</td>\n",
       "    </tr>\n",
       "    <tr>\n",
       "      <th>2019-08-26</th>\n",
       "      <td>205.860001</td>\n",
       "      <td>207.190002</td>\n",
       "      <td>205.059998</td>\n",
       "      <td>206.490005</td>\n",
       "      <td>206.490005</td>\n",
       "      <td>26043600</td>\n",
       "      <td>NaN</td>\n",
       "    </tr>\n",
       "    <tr>\n",
       "      <th>2019-08-27</th>\n",
       "      <td>207.860001</td>\n",
       "      <td>208.550003</td>\n",
       "      <td>203.529999</td>\n",
       "      <td>204.160004</td>\n",
       "      <td>204.160004</td>\n",
       "      <td>25873300</td>\n",
       "      <td>NaN</td>\n",
       "    </tr>\n",
       "    <tr>\n",
       "      <th>2019-08-28</th>\n",
       "      <td>204.100006</td>\n",
       "      <td>205.720001</td>\n",
       "      <td>203.320007</td>\n",
       "      <td>205.529999</td>\n",
       "      <td>205.529999</td>\n",
       "      <td>15938800</td>\n",
       "      <td>NaN</td>\n",
       "    </tr>\n",
       "    <tr>\n",
       "      <th>2019-08-29</th>\n",
       "      <td>208.500000</td>\n",
       "      <td>209.320007</td>\n",
       "      <td>206.660004</td>\n",
       "      <td>209.009995</td>\n",
       "      <td>209.009995</td>\n",
       "      <td>20990500</td>\n",
       "      <td>NaN</td>\n",
       "    </tr>\n",
       "    <tr>\n",
       "      <th>2019-08-30</th>\n",
       "      <td>210.160004</td>\n",
       "      <td>210.449997</td>\n",
       "      <td>207.199997</td>\n",
       "      <td>208.740005</td>\n",
       "      <td>208.740005</td>\n",
       "      <td>21143400</td>\n",
       "      <td>NaN</td>\n",
       "    </tr>\n",
       "    <tr>\n",
       "      <th>2019-09-03</th>\n",
       "      <td>206.429993</td>\n",
       "      <td>206.979996</td>\n",
       "      <td>204.220001</td>\n",
       "      <td>205.699997</td>\n",
       "      <td>205.699997</td>\n",
       "      <td>20023000</td>\n",
       "      <td>NaN</td>\n",
       "    </tr>\n",
       "    <tr>\n",
       "      <th>2019-09-04</th>\n",
       "      <td>208.389999</td>\n",
       "      <td>209.479996</td>\n",
       "      <td>207.320007</td>\n",
       "      <td>209.190002</td>\n",
       "      <td>209.190002</td>\n",
       "      <td>19188100</td>\n",
       "      <td>NaN</td>\n",
       "    </tr>\n",
       "    <tr>\n",
       "      <th>2019-09-05</th>\n",
       "      <td>212.000000</td>\n",
       "      <td>213.970001</td>\n",
       "      <td>211.509995</td>\n",
       "      <td>213.279999</td>\n",
       "      <td>213.279999</td>\n",
       "      <td>23913700</td>\n",
       "      <td>NaN</td>\n",
       "    </tr>\n",
       "    <tr>\n",
       "      <th>2019-09-06</th>\n",
       "      <td>214.050003</td>\n",
       "      <td>214.419998</td>\n",
       "      <td>212.509995</td>\n",
       "      <td>213.259995</td>\n",
       "      <td>213.259995</td>\n",
       "      <td>19350800</td>\n",
       "      <td>NaN</td>\n",
       "    </tr>\n",
       "  </tbody>\n",
       "</table>\n",
       "</div>"
      ],
      "text/plain": [
       "                  Open        High         Low       Close   Adj Close  \\\n",
       "Date                                                                     \n",
       "2019-08-16  204.279999  207.160004  203.839996  206.500000  206.500000   \n",
       "2019-08-19  210.619995  212.729996  210.029999  210.350006  210.350006   \n",
       "2019-08-20  210.880005  213.350006  210.320007  210.360001  210.360001   \n",
       "2019-08-21  212.990005  213.649994  211.600006  212.639999  212.639999   \n",
       "2019-08-22  213.190002  214.440002  210.750000  212.460007  212.460007   \n",
       "2019-08-23  209.429993  212.050003  201.000000  202.639999  202.639999   \n",
       "2019-08-26  205.860001  207.190002  205.059998  206.490005  206.490005   \n",
       "2019-08-27  207.860001  208.550003  203.529999  204.160004  204.160004   \n",
       "2019-08-28  204.100006  205.720001  203.320007  205.529999  205.529999   \n",
       "2019-08-29  208.500000  209.320007  206.660004  209.009995  209.009995   \n",
       "2019-08-30  210.160004  210.449997  207.199997  208.740005  208.740005   \n",
       "2019-09-03  206.429993  206.979996  204.220001  205.699997  205.699997   \n",
       "2019-09-04  208.389999  209.479996  207.320007  209.190002  209.190002   \n",
       "2019-09-05  212.000000  213.970001  211.509995  213.279999  213.279999   \n",
       "2019-09-06  214.050003  214.419998  212.509995  213.259995  213.259995   \n",
       "\n",
       "              Volume       label  \n",
       "Date                              \n",
       "2019-08-16  27620400  208.740005  \n",
       "2019-08-19  24413600  205.699997  \n",
       "2019-08-20  26884300  209.190002  \n",
       "2019-08-21  21535400  213.279999  \n",
       "2019-08-22  22253700  213.259995  \n",
       "2019-08-23  46818000         NaN  \n",
       "2019-08-26  26043600         NaN  \n",
       "2019-08-27  25873300         NaN  \n",
       "2019-08-28  15938800         NaN  \n",
       "2019-08-29  20990500         NaN  \n",
       "2019-08-30  21143400         NaN  \n",
       "2019-09-03  20023000         NaN  \n",
       "2019-09-04  19188100         NaN  \n",
       "2019-09-05  23913700         NaN  \n",
       "2019-09-06  19350800         NaN  "
      ]
     },
     "execution_count": 527,
     "metadata": {},
     "output_type": "execute_result"
    }
   ],
   "source": [
    "df.tail(15)"
   ]
  },
  {
   "cell_type": "code",
   "execution_count": 528,
   "metadata": {},
   "outputs": [],
   "source": [
    "df.dropna(inplace=True)"
   ]
  },
  {
   "cell_type": "code",
   "execution_count": 529,
   "metadata": {},
   "outputs": [
    {
     "data": {
      "text/html": [
       "<div>\n",
       "<style scoped>\n",
       "    .dataframe tbody tr th:only-of-type {\n",
       "        vertical-align: middle;\n",
       "    }\n",
       "\n",
       "    .dataframe tbody tr th {\n",
       "        vertical-align: top;\n",
       "    }\n",
       "\n",
       "    .dataframe thead th {\n",
       "        text-align: right;\n",
       "    }\n",
       "</style>\n",
       "<table border=\"1\" class=\"dataframe\">\n",
       "  <thead>\n",
       "    <tr style=\"text-align: right;\">\n",
       "      <th></th>\n",
       "      <th>Open</th>\n",
       "      <th>High</th>\n",
       "      <th>Low</th>\n",
       "      <th>Close</th>\n",
       "      <th>Adj Close</th>\n",
       "      <th>Volume</th>\n",
       "      <th>label</th>\n",
       "    </tr>\n",
       "    <tr>\n",
       "      <th>Date</th>\n",
       "      <th></th>\n",
       "      <th></th>\n",
       "      <th></th>\n",
       "      <th></th>\n",
       "      <th></th>\n",
       "      <th></th>\n",
       "      <th></th>\n",
       "    </tr>\n",
       "  </thead>\n",
       "  <tbody>\n",
       "    <tr>\n",
       "      <th>2019-08-16</th>\n",
       "      <td>204.279999</td>\n",
       "      <td>207.160004</td>\n",
       "      <td>203.839996</td>\n",
       "      <td>206.500000</td>\n",
       "      <td>206.500000</td>\n",
       "      <td>27620400</td>\n",
       "      <td>208.740005</td>\n",
       "    </tr>\n",
       "    <tr>\n",
       "      <th>2019-08-19</th>\n",
       "      <td>210.619995</td>\n",
       "      <td>212.729996</td>\n",
       "      <td>210.029999</td>\n",
       "      <td>210.350006</td>\n",
       "      <td>210.350006</td>\n",
       "      <td>24413600</td>\n",
       "      <td>205.699997</td>\n",
       "    </tr>\n",
       "    <tr>\n",
       "      <th>2019-08-20</th>\n",
       "      <td>210.880005</td>\n",
       "      <td>213.350006</td>\n",
       "      <td>210.320007</td>\n",
       "      <td>210.360001</td>\n",
       "      <td>210.360001</td>\n",
       "      <td>26884300</td>\n",
       "      <td>209.190002</td>\n",
       "    </tr>\n",
       "    <tr>\n",
       "      <th>2019-08-21</th>\n",
       "      <td>212.990005</td>\n",
       "      <td>213.649994</td>\n",
       "      <td>211.600006</td>\n",
       "      <td>212.639999</td>\n",
       "      <td>212.639999</td>\n",
       "      <td>21535400</td>\n",
       "      <td>213.279999</td>\n",
       "    </tr>\n",
       "    <tr>\n",
       "      <th>2019-08-22</th>\n",
       "      <td>213.190002</td>\n",
       "      <td>214.440002</td>\n",
       "      <td>210.750000</td>\n",
       "      <td>212.460007</td>\n",
       "      <td>212.460007</td>\n",
       "      <td>22253700</td>\n",
       "      <td>213.259995</td>\n",
       "    </tr>\n",
       "  </tbody>\n",
       "</table>\n",
       "</div>"
      ],
      "text/plain": [
       "                  Open        High         Low       Close   Adj Close  \\\n",
       "Date                                                                     \n",
       "2019-08-16  204.279999  207.160004  203.839996  206.500000  206.500000   \n",
       "2019-08-19  210.619995  212.729996  210.029999  210.350006  210.350006   \n",
       "2019-08-20  210.880005  213.350006  210.320007  210.360001  210.360001   \n",
       "2019-08-21  212.990005  213.649994  211.600006  212.639999  212.639999   \n",
       "2019-08-22  213.190002  214.440002  210.750000  212.460007  212.460007   \n",
       "\n",
       "              Volume       label  \n",
       "Date                              \n",
       "2019-08-16  27620400  208.740005  \n",
       "2019-08-19  24413600  205.699997  \n",
       "2019-08-20  26884300  209.190002  \n",
       "2019-08-21  21535400  213.279999  \n",
       "2019-08-22  22253700  213.259995  "
      ]
     },
     "execution_count": 529,
     "metadata": {},
     "output_type": "execute_result"
    }
   ],
   "source": [
    "df.tail()"
   ]
  },
  {
   "cell_type": "code",
   "execution_count": 530,
   "metadata": {},
   "outputs": [],
   "source": [
    "X=np.array(df.drop(['label'],1))  #All columns except label"
   ]
  },
  {
   "cell_type": "code",
   "execution_count": 531,
   "metadata": {},
   "outputs": [],
   "source": [
    "Y=np.array(df['label'])   #Label Column"
   ]
  },
  {
   "cell_type": "code",
   "execution_count": 532,
   "metadata": {},
   "outputs": [],
   "source": [
    "X=preprocessing.scale(X)"
   ]
  },
  {
   "cell_type": "code",
   "execution_count": 533,
   "metadata": {},
   "outputs": [],
   "source": [
    "X_lately=X[-forecast_out:]"
   ]
  },
  {
   "cell_type": "code",
   "execution_count": 534,
   "metadata": {},
   "outputs": [],
   "source": [
    "#X=X[:-forecast_out:]"
   ]
  },
  {
   "cell_type": "code",
   "execution_count": 535,
   "metadata": {},
   "outputs": [
    {
     "data": {
      "text/plain": [
       "230"
      ]
     },
     "execution_count": 535,
     "metadata": {},
     "output_type": "execute_result"
    }
   ],
   "source": [
    "len(X[:-forecast_out:])"
   ]
  },
  {
   "cell_type": "code",
   "execution_count": 536,
   "metadata": {},
   "outputs": [],
   "source": [
    "X_train,X_test,Y_train,Y_test=model_selection.train_test_split(X,Y,test_size=0.2)"
   ]
  },
  {
   "cell_type": "code",
   "execution_count": 537,
   "metadata": {},
   "outputs": [
    {
     "name": "stdout",
     "output_type": "stream",
     "text": [
      "192 48 192 48\n"
     ]
    }
   ],
   "source": [
    "print(len(X_train),len(X_test),len(Y_train),len(Y_test))"
   ]
  },
  {
   "cell_type": "code",
   "execution_count": 538,
   "metadata": {},
   "outputs": [],
   "source": [
    "clf=LinearRegression()\n",
    "clf.fit(X_train,Y_train)\n",
    "pred1=clf.predict(X_test)"
   ]
  },
  {
   "cell_type": "code",
   "execution_count": 539,
   "metadata": {},
   "outputs": [
    {
     "name": "stdout",
     "output_type": "stream",
     "text": [
      "MAE 7.7726\n",
      "MSE 101.6206\n",
      "RMSE 10.0807\n"
     ]
    }
   ],
   "source": [
    "print(\"MAE\",metrics.mean_absolute_error(Y_test, pred1).round(4))\n",
    "print(\"MSE\",metrics.mean_squared_error(Y_test, pred1).round(4))\n",
    "print(\"RMSE\",np.sqrt(metrics.mean_squared_error(Y_test, pred1)).round(4))"
   ]
  },
  {
   "cell_type": "code",
   "execution_count": 540,
   "metadata": {},
   "outputs": [],
   "source": [
    "svm_model=svm.SVR()\n",
    "svm_model.fit(X_train,Y_train)\n",
    "pred2=svm_model.predict(X_test)"
   ]
  },
  {
   "cell_type": "code",
   "execution_count": 541,
   "metadata": {},
   "outputs": [
    {
     "name": "stdout",
     "output_type": "stream",
     "text": [
      "MAE 9.3378\n",
      "MSE 141.9219\n",
      "RMSE 11.9131\n"
     ]
    }
   ],
   "source": [
    "print(\"MAE\",metrics.mean_absolute_error(Y_test, pred2).round(4))\n",
    "print(\"MSE\",metrics.mean_squared_error(Y_test, pred2).round(4))\n",
    "print(\"RMSE\",np.sqrt(metrics.mean_squared_error(Y_test, pred2)).round(4))"
   ]
  },
  {
   "cell_type": "code",
   "execution_count": 542,
   "metadata": {},
   "outputs": [],
   "source": [
    "ridge_model=Ridge()\n",
    "ridge_model.fit(X_train,Y_train)\n",
    "pred3=ridge_model.predict(X_test)"
   ]
  },
  {
   "cell_type": "code",
   "execution_count": 543,
   "metadata": {},
   "outputs": [
    {
     "name": "stdout",
     "output_type": "stream",
     "text": [
      "MAE 8.199\n",
      "MSE 106.1582\n",
      "RMSE 10.3033\n"
     ]
    }
   ],
   "source": [
    "print(\"MAE\",metrics.mean_absolute_error(Y_test, pred3).round(4))\n",
    "print(\"MSE\",metrics.mean_squared_error(Y_test, pred3).round(4))\n",
    "print(\"RMSE\",np.sqrt(metrics.mean_squared_error(Y_test, pred3)).round(4))"
   ]
  },
  {
   "cell_type": "code",
   "execution_count": 544,
   "metadata": {},
   "outputs": [],
   "source": [
    "gb_model=GradientBoostingRegressor()\n",
    "gb_model.fit(X_train,Y_train)\n",
    "pred4=gb_model.predict(X_test)"
   ]
  },
  {
   "cell_type": "code",
   "execution_count": 552,
   "metadata": {},
   "outputs": [
    {
     "name": "stdout",
     "output_type": "stream",
     "text": [
      "MAE 8.1891\n",
      "MSE 120.4404\n",
      "RMSE 10.9745\n"
     ]
    }
   ],
   "source": [
    "print(\"MAE\",metrics.mean_absolute_error(Y_test, pred4).round(4))\n",
    "print(\"MSE\",metrics.mean_squared_error(Y_test, pred4).round(4))\n",
    "print(\"RMSE\",np.sqrt(metrics.mean_squared_error(Y_test, pred4)).round(4))"
   ]
  },
  {
   "cell_type": "code",
   "execution_count": 553,
   "metadata": {},
   "outputs": [
    {
     "data": {
      "text/html": [
       "<div>\n",
       "<style scoped>\n",
       "    .dataframe tbody tr th:only-of-type {\n",
       "        vertical-align: middle;\n",
       "    }\n",
       "\n",
       "    .dataframe tbody tr th {\n",
       "        vertical-align: top;\n",
       "    }\n",
       "\n",
       "    .dataframe thead th {\n",
       "        text-align: right;\n",
       "    }\n",
       "</style>\n",
       "<table border=\"1\" class=\"dataframe\">\n",
       "  <thead>\n",
       "    <tr style=\"text-align: right;\">\n",
       "      <th></th>\n",
       "      <th>GB</th>\n",
       "      <th>Linear</th>\n",
       "      <th>Ridge</th>\n",
       "      <th>SVM</th>\n",
       "    </tr>\n",
       "  </thead>\n",
       "  <tbody>\n",
       "    <tr>\n",
       "      <th>MAE</th>\n",
       "      <td>8.1891</td>\n",
       "      <td>7.7726</td>\n",
       "      <td>8.1990</td>\n",
       "      <td>9.3378</td>\n",
       "    </tr>\n",
       "    <tr>\n",
       "      <th>MSE</th>\n",
       "      <td>120.4404</td>\n",
       "      <td>101.6206</td>\n",
       "      <td>106.1582</td>\n",
       "      <td>141.9219</td>\n",
       "    </tr>\n",
       "    <tr>\n",
       "      <th>RMSE</th>\n",
       "      <td>10.9745</td>\n",
       "      <td>10.0807</td>\n",
       "      <td>10.3033</td>\n",
       "      <td>11.9131</td>\n",
       "    </tr>\n",
       "  </tbody>\n",
       "</table>\n",
       "</div>"
      ],
      "text/plain": [
       "            GB    Linear     Ridge       SVM\n",
       "MAE     8.1891    7.7726    8.1990    9.3378\n",
       "MSE   120.4404  101.6206  106.1582  141.9219\n",
       "RMSE   10.9745   10.0807   10.3033   11.9131"
      ]
     },
     "execution_count": 553,
     "metadata": {},
     "output_type": "execute_result"
    }
   ],
   "source": [
    "#Model Comparison\n",
    "pd.DataFrame({'Linear':[metrics.mean_absolute_error(Y_test, pred1).round(4),metrics.mean_squared_error(Y_test, pred1).round(4),np.sqrt(metrics.mean_squared_error(Y_test, pred1)).round(4)],\n",
    "             'SVM':[metrics.mean_absolute_error(Y_test, pred2).round(4),metrics.mean_squared_error(Y_test, pred2).round(4),np.sqrt(metrics.mean_squared_error(Y_test, pred2)).round(4)],\n",
    "             'Ridge':[metrics.mean_absolute_error(Y_test, pred3).round(4),metrics.mean_squared_error(Y_test, pred3).round(4),np.sqrt(metrics.mean_squared_error(Y_test, pred3)).round(4)],\n",
    "             'GB':[metrics.mean_absolute_error(Y_test, pred4).round(4),metrics.mean_squared_error(Y_test, pred4).round(4),np.sqrt(metrics.mean_squared_error(Y_test, pred4)).round(4)]},['MAE','MSE','RMSE'])\n",
    "#Since Linear Regression is performing the best we will plot it"
   ]
  },
  {
   "cell_type": "code",
   "execution_count": 546,
   "metadata": {},
   "outputs": [
    {
     "name": "stdout",
     "output_type": "stream",
     "text": [
      "[204.60123085 204.51105401 200.71634654 204.83285155 204.19041342\n",
      " 208.13148487 213.36439306 213.03266844 215.85033097 214.72064311] [182.87688216 210.33527438 189.85898706 200.71634654 203.66140158\n",
      " 204.42259371 199.5174598  205.04151895 200.0388862  183.5540066\n",
      " 200.47504578 187.00150195 209.65308455 189.16986596 216.49165724\n",
      " 168.08378136 210.86340117 183.66865022 198.72626234 184.16895982\n",
      " 205.61271356 204.68553848 183.29838419 171.02690912 183.64534163\n",
      " 201.01754931 176.94165257 189.07898692 189.33577777 187.51504627\n",
      " 201.00079874 215.85033097 181.69302533 204.83285155 168.19238733\n",
      " 199.49402183 153.18555643 186.5307675  206.84910447 158.0579733\n",
      " 210.33819843 174.83485161 149.88472866 198.30327759 198.4574763\n",
      " 157.09293148 170.79312007 171.37766137] 10\n"
     ]
    }
   ],
   "source": [
    "forecast1=clf.predict(X_lately)\n",
    "print(forecast1,pred1,forecast_out)\n",
    "df['forecast1']=np.nan\n"
   ]
  },
  {
   "cell_type": "code",
   "execution_count": 547,
   "metadata": {},
   "outputs": [],
   "source": [
    "last_date=df.iloc[-1].name\n",
    "last_unix=(last_date).timestamp()\n",
    "one_day=86400\n",
    "next_unix=last_unix+one_day\n",
    "\n",
    "for i in pred1:\n",
    "    next_date=datetime.fromtimestamp(next_unix)\n",
    "    next_unix+=one_day\n",
    "    df.loc[next_date]=[np.nan for _ in range(len(df.columns)-1)]+[i]"
   ]
  },
  {
   "cell_type": "code",
   "execution_count": 548,
   "metadata": {},
   "outputs": [
    {
     "data": {
      "text/plain": [
       "[<matplotlib.lines.Line2D at 0x16363786e48>]"
      ]
     },
     "execution_count": 548,
     "metadata": {},
     "output_type": "execute_result"
    },
    {
     "data": {
      "image/png": "[encoded data removed]",
      "text/plain": [
       "<Figure size 432x288 with 1 Axes>"
      ]
     },
     "metadata": {},
     "output_type": "display_data"
    }
   ],
   "source": [
    "plt.scatter(pred1, Y_test, color=\"gray\")\n",
    "plt.plot(Y_test, Y_test, color='blue', linewidth=2)"
   ]
  },
  {
   "cell_type": "code",
   "execution_count": 549,
   "metadata": {},
   "outputs": [
    {
     "data": {
      "image/png": "[encoded data removed]",
      "text/plain": [
       "<Figure size 1152x576 with 1 Axes>"
      ]
     },
     "metadata": {},
     "output_type": "display_data"
    }
   ],
   "source": [
    "df['Adj Close'].plot(figsize=(16,8),title=\"Linear Regression\")\n",
    "df['forecast1'].plot()\n",
    "plt.show()"
   ]
  }
 ],
 "metadata": {
  "kernelspec": {
   "display_name": "Python 3",
   "language": "python",
   "name": "python3"
  },
  "language_info": {
   "codemirror_mode": {
    "name": "ipython",
    "version": 3
   },
   "file_extension": ".py",
   "mimetype": "text/x-python",
   "name": "python",
   "nbconvert_exporter": "python",
   "pygments_lexer": "ipython3",
   "version": "3.6.4"
  }
 },
 "nbformat": 4,
 "nbformat_minor": 2
}
