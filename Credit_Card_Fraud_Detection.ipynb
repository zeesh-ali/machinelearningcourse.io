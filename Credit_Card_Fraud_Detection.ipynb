{
  "nbformat": 4,
  "nbformat_minor": 0,
  "metadata": {
    "colab": {
      "name": "Credit Card Fraud Detection.ipynb",
      "provenance": [],
      "collapsed_sections": [],
      "include_colab_link": true
    },
    "kernelspec": {
      "name": "python3",
      "display_name": "Python 3"
    }
  },
  "cells": [
    {
      "cell_type": "markdown",
      "metadata": {
        "id": "view-in-github",
        "colab_type": "text"
      },
      "source": [
        "<a href=\"https://colab.research.google.com/github/zeesh-ali/machinelearningcourse.io/blob/master/Credit_Card_Fraud_Detection.ipynb\" target=\"_parent\"><img src=\"https://colab.research.google.com/assets/colab-badge.svg\" alt=\"Open In Colab\"/></a>"
      ]
    },
    {
      "cell_type": "code",
      "metadata": {
        "id": "9d4bcPFpjaLJ",
        "colab_type": "code",
        "colab": {
          "base_uri": "https://localhost:8080/",
          "height": 54
        },
        "outputId": "e44c56ea-00e8-44dd-bdbe-71f236e6a35d"
      },
      "source": [
        "from google.colab import drive\n",
        "drive.mount('/content/drive')"
      ],
      "execution_count": 5,
      "outputs": [
        {
          "output_type": "stream",
          "text": [
            "Drive already mounted at /content/drive; to attempt to forcibly remount, call drive.mount(\"/content/drive\", force_remount=True).\n"
          ],
          "name": "stdout"
        }
      ]
    },
    {
      "cell_type": "code",
      "metadata": {
        "id": "RofrUZiHgWsx",
        "colab_type": "code",
        "colab": {}
      },
      "source": [
        "import numpy as np\n",
        "import sklearn as sk\n",
        "import pandas as pd\n",
        "from sklearn.preprocessing import scale\n",
        "import matplotlib.pyplot as plt\n",
        "import random\n",
        "import os\n",
        "import seaborn as sns\n",
        "import matplotlib.pyplot as plt\n",
        "sns.set(style=\"ticks\", color_codes=True)"
      ],
      "execution_count": 0,
      "outputs": []
    },
    {
      "cell_type": "code",
      "metadata": {
        "id": "6WnILSvsphKj",
        "colab_type": "code",
        "colab": {
          "base_uri": "https://localhost:8080/",
          "height": 224
        },
        "outputId": "f35aa37b-a9a4-4e78-c61d-3d1ab48fad9f"
      },
      "source": [
        "#Load data\n",
        "df=pd.read_csv('creditcard.csv',low_memory=False)\n",
        "#Shuffle Data\n",
        "df=df.sample(frac=1).reset_index(drop=True)\n",
        "\n",
        "#First few records\n",
        "df.head()"
      ],
      "execution_count": 6,
      "outputs": [
        {
          "output_type": "execute_result",
          "data": {
            "text/html": [
              "<div>\n",
              "<style scoped>\n",
              "    .dataframe tbody tr th:only-of-type {\n",
              "        vertical-align: middle;\n",
              "    }\n",
              "\n",
              "    .dataframe tbody tr th {\n",
              "        vertical-align: top;\n",
              "    }\n",
              "\n",
              "    .dataframe thead th {\n",
              "        text-align: right;\n",
              "    }\n",
              "</style>\n",
              "<table border=\"1\" class=\"dataframe\">\n",
              "  <thead>\n",
              "    <tr style=\"text-align: right;\">\n",
              "      <th></th>\n",
              "      <th>Time</th>\n",
              "      <th>V1</th>\n",
              "      <th>V2</th>\n",
              "      <th>V3</th>\n",
              "      <th>V4</th>\n",
              "      <th>V5</th>\n",
              "      <th>V6</th>\n",
              "      <th>V7</th>\n",
              "      <th>V8</th>\n",
              "      <th>V9</th>\n",
              "      <th>V10</th>\n",
              "      <th>V11</th>\n",
              "      <th>V12</th>\n",
              "      <th>V13</th>\n",
              "      <th>V14</th>\n",
              "      <th>V15</th>\n",
              "      <th>V16</th>\n",
              "      <th>V17</th>\n",
              "      <th>V18</th>\n",
              "      <th>V19</th>\n",
              "      <th>V20</th>\n",
              "      <th>V21</th>\n",
              "      <th>V22</th>\n",
              "      <th>V23</th>\n",
              "      <th>V24</th>\n",
              "      <th>V25</th>\n",
              "      <th>V26</th>\n",
              "      <th>V27</th>\n",
              "      <th>V28</th>\n",
              "      <th>Amount</th>\n",
              "      <th>Class</th>\n",
              "    </tr>\n",
              "  </thead>\n",
              "  <tbody>\n",
              "    <tr>\n",
              "      <th>0</th>\n",
              "      <td>71018.0</td>\n",
              "      <td>1.230013</td>\n",
              "      <td>0.040710</td>\n",
              "      <td>-0.199612</td>\n",
              "      <td>-0.084825</td>\n",
              "      <td>-0.105509</td>\n",
              "      <td>-0.864397</td>\n",
              "      <td>0.303826</td>\n",
              "      <td>-0.168130</td>\n",
              "      <td>-0.302952</td>\n",
              "      <td>0.046842</td>\n",
              "      <td>1.168350</td>\n",
              "      <td>0.597604</td>\n",
              "      <td>-0.454339</td>\n",
              "      <td>0.741024</td>\n",
              "      <td>0.160758</td>\n",
              "      <td>0.344606</td>\n",
              "      <td>-0.513629</td>\n",
              "      <td>-0.336199</td>\n",
              "      <td>0.684030</td>\n",
              "      <td>-0.020747</td>\n",
              "      <td>-0.338740</td>\n",
              "      <td>-1.141082</td>\n",
              "      <td>0.075238</td>\n",
              "      <td>0.027240</td>\n",
              "      <td>0.196077</td>\n",
              "      <td>0.705028</td>\n",
              "      <td>-0.120508</td>\n",
              "      <td>-0.009261</td>\n",
              "      <td>38.00</td>\n",
              "      <td>0</td>\n",
              "    </tr>\n",
              "    <tr>\n",
              "      <th>1</th>\n",
              "      <td>130682.0</td>\n",
              "      <td>-0.584564</td>\n",
              "      <td>-0.388092</td>\n",
              "      <td>1.548089</td>\n",
              "      <td>-0.647859</td>\n",
              "      <td>-0.130118</td>\n",
              "      <td>0.477509</td>\n",
              "      <td>0.106883</td>\n",
              "      <td>-0.057143</td>\n",
              "      <td>-1.223869</td>\n",
              "      <td>0.762206</td>\n",
              "      <td>0.771906</td>\n",
              "      <td>0.315453</td>\n",
              "      <td>0.478812</td>\n",
              "      <td>-0.289174</td>\n",
              "      <td>0.051703</td>\n",
              "      <td>-1.495566</td>\n",
              "      <td>-0.255214</td>\n",
              "      <td>1.599967</td>\n",
              "      <td>0.397357</td>\n",
              "      <td>-0.217121</td>\n",
              "      <td>-0.517164</td>\n",
              "      <td>-0.913624</td>\n",
              "      <td>0.192981</td>\n",
              "      <td>0.657408</td>\n",
              "      <td>-0.792006</td>\n",
              "      <td>0.024214</td>\n",
              "      <td>-0.124174</td>\n",
              "      <td>-0.020654</td>\n",
              "      <td>96.00</td>\n",
              "      <td>0</td>\n",
              "    </tr>\n",
              "    <tr>\n",
              "      <th>2</th>\n",
              "      <td>131718.0</td>\n",
              "      <td>-0.761159</td>\n",
              "      <td>0.030820</td>\n",
              "      <td>2.048984</td>\n",
              "      <td>-1.766757</td>\n",
              "      <td>-0.057771</td>\n",
              "      <td>0.205751</td>\n",
              "      <td>0.210529</td>\n",
              "      <td>0.072038</td>\n",
              "      <td>-1.165418</td>\n",
              "      <td>0.356863</td>\n",
              "      <td>0.654240</td>\n",
              "      <td>0.175988</td>\n",
              "      <td>0.120141</td>\n",
              "      <td>-0.357042</td>\n",
              "      <td>-0.531706</td>\n",
              "      <td>-1.004480</td>\n",
              "      <td>-0.617459</td>\n",
              "      <td>1.496992</td>\n",
              "      <td>-0.555365</td>\n",
              "      <td>-0.116826</td>\n",
              "      <td>-0.652535</td>\n",
              "      <td>-1.304504</td>\n",
              "      <td>-0.042118</td>\n",
              "      <td>0.703746</td>\n",
              "      <td>0.079551</td>\n",
              "      <td>0.289277</td>\n",
              "      <td>0.069545</td>\n",
              "      <td>-0.098517</td>\n",
              "      <td>29.75</td>\n",
              "      <td>0</td>\n",
              "    </tr>\n",
              "    <tr>\n",
              "      <th>3</th>\n",
              "      <td>134931.0</td>\n",
              "      <td>-1.200503</td>\n",
              "      <td>1.315023</td>\n",
              "      <td>1.374669</td>\n",
              "      <td>0.935623</td>\n",
              "      <td>-0.156847</td>\n",
              "      <td>0.130243</td>\n",
              "      <td>0.788210</td>\n",
              "      <td>-0.042447</td>\n",
              "      <td>1.170890</td>\n",
              "      <td>0.892188</td>\n",
              "      <td>-1.395683</td>\n",
              "      <td>-0.488747</td>\n",
              "      <td>-1.537906</td>\n",
              "      <td>-0.526012</td>\n",
              "      <td>-0.640645</td>\n",
              "      <td>-1.035929</td>\n",
              "      <td>0.291370</td>\n",
              "      <td>-0.601309</td>\n",
              "      <td>1.119928</td>\n",
              "      <td>0.382521</td>\n",
              "      <td>-0.670705</td>\n",
              "      <td>-1.196527</td>\n",
              "      <td>0.075747</td>\n",
              "      <td>-0.155024</td>\n",
              "      <td>-0.156203</td>\n",
              "      <td>-0.912064</td>\n",
              "      <td>0.471960</td>\n",
              "      <td>0.194761</td>\n",
              "      <td>35.99</td>\n",
              "      <td>0</td>\n",
              "    </tr>\n",
              "    <tr>\n",
              "      <th>4</th>\n",
              "      <td>38868.0</td>\n",
              "      <td>0.102056</td>\n",
              "      <td>-0.524274</td>\n",
              "      <td>-0.067107</td>\n",
              "      <td>-2.550789</td>\n",
              "      <td>1.426914</td>\n",
              "      <td>3.438821</td>\n",
              "      <td>-1.007796</td>\n",
              "      <td>0.826191</td>\n",
              "      <td>-2.674680</td>\n",
              "      <td>1.346280</td>\n",
              "      <td>-0.345294</td>\n",
              "      <td>-1.383096</td>\n",
              "      <td>0.507887</td>\n",
              "      <td>-0.193001</td>\n",
              "      <td>1.040166</td>\n",
              "      <td>-0.570784</td>\n",
              "      <td>0.369603</td>\n",
              "      <td>0.699968</td>\n",
              "      <td>1.247021</td>\n",
              "      <td>-0.021862</td>\n",
              "      <td>-0.144953</td>\n",
              "      <td>-0.155071</td>\n",
              "      <td>-0.072164</td>\n",
              "      <td>0.989413</td>\n",
              "      <td>-0.330333</td>\n",
              "      <td>-0.131138</td>\n",
              "      <td>0.187806</td>\n",
              "      <td>0.148910</td>\n",
              "      <td>5.00</td>\n",
              "      <td>0</td>\n",
              "    </tr>\n",
              "  </tbody>\n",
              "</table>\n",
              "</div>"
            ],
            "text/plain": [
              "       Time        V1        V2        V3  ...       V27       V28  Amount  Class\n",
              "0   71018.0  1.230013  0.040710 -0.199612  ... -0.120508 -0.009261   38.00      0\n",
              "1  130682.0 -0.584564 -0.388092  1.548089  ... -0.124174 -0.020654   96.00      0\n",
              "2  131718.0 -0.761159  0.030820  2.048984  ...  0.069545 -0.098517   29.75      0\n",
              "3  134931.0 -1.200503  1.315023  1.374669  ...  0.471960  0.194761   35.99      0\n",
              "4   38868.0  0.102056 -0.524274 -0.067107  ...  0.187806  0.148910    5.00      0\n",
              "\n",
              "[5 rows x 31 columns]"
            ]
          },
          "metadata": {
            "tags": []
          },
          "execution_count": 6
        }
      ]
    },
    {
      "cell_type": "code",
      "metadata": {
        "id": "wGdycYutsiFF",
        "colab_type": "code",
        "colab": {
          "base_uri": "https://localhost:8080/",
          "height": 1000
        },
        "outputId": "a7b5e65a-67b5-4c85-f337-062a6b478a60"
      },
      "source": [
        "#EDA\n",
        "print('Dimension of the dataset',df.shape)\n",
        "print('Columns',df.columns,'\\n')\n",
        "print('NULL values\\n',df.isnull().sum())\n",
        "print('Statistical Summary\\n',df.describe())\n",
        "print('Corr Matrix\\n',df.corr())\n",
        "fr=df.loc[df['Class']==1]  #Fraudulent\n",
        "nfr=df.loc[df['Class']==0] #Non Fradulent\n",
        "print('No. of fradulent',len(fr))   #No. of fradulent\n",
        "print('No. of Normal Non fraudulent',len(nfr))   #No. of Normal\n"
      ],
      "execution_count": 7,
      "outputs": [
        {
          "output_type": "stream",
          "text": [
            "Dimension of the dataset (284807, 31)\n",
            "Columns Index(['Time', 'V1', 'V2', 'V3', 'V4', 'V5', 'V6', 'V7', 'V8', 'V9', 'V10',\n",
            "       'V11', 'V12', 'V13', 'V14', 'V15', 'V16', 'V17', 'V18', 'V19', 'V20',\n",
            "       'V21', 'V22', 'V23', 'V24', 'V25', 'V26', 'V27', 'V28', 'Amount',\n",
            "       'Class'],\n",
            "      dtype='object') \n",
            "\n",
            "NULL values\n",
            " Time      0\n",
            "V1        0\n",
            "V2        0\n",
            "V3        0\n",
            "V4        0\n",
            "V5        0\n",
            "V6        0\n",
            "V7        0\n",
            "V8        0\n",
            "V9        0\n",
            "V10       0\n",
            "V11       0\n",
            "V12       0\n",
            "V13       0\n",
            "V14       0\n",
            "V15       0\n",
            "V16       0\n",
            "V17       0\n",
            "V18       0\n",
            "V19       0\n",
            "V20       0\n",
            "V21       0\n",
            "V22       0\n",
            "V23       0\n",
            "V24       0\n",
            "V25       0\n",
            "V26       0\n",
            "V27       0\n",
            "V28       0\n",
            "Amount    0\n",
            "Class     0\n",
            "dtype: int64\n",
            "Statistical Summary\n",
            "                 Time            V1  ...         Amount          Class\n",
            "count  284807.000000  2.848070e+05  ...  284807.000000  284807.000000\n",
            "mean    94813.859575  1.168949e-15  ...      88.349619       0.001727\n",
            "std     47488.145955  1.958696e+00  ...     250.120109       0.041527\n",
            "min         0.000000 -5.640751e+01  ...       0.000000       0.000000\n",
            "25%     54201.500000 -9.203734e-01  ...       5.600000       0.000000\n",
            "50%     84692.000000  1.810880e-02  ...      22.000000       0.000000\n",
            "75%    139320.500000  1.315642e+00  ...      77.165000       0.000000\n",
            "max    172792.000000  2.454930e+00  ...   25691.160000       1.000000\n",
            "\n",
            "[8 rows x 31 columns]\n",
            "Corr Matrix\n",
            "             Time            V1            V2  ...           V28    Amount     Class\n",
            "Time    1.000000  1.173963e-01 -1.059333e-02  ... -9.412688e-03 -0.010596 -0.012323\n",
            "V1      0.117396  1.000000e+00  2.706446e-16  ...  5.635496e-16 -0.227709 -0.101347\n",
            "V2     -0.010593  2.706446e-16  1.000000e+00  ... -5.549849e-16 -0.531409  0.091289\n",
            "V3     -0.419618 -7.464217e-16 -1.148777e-16  ...  6.476181e-16 -0.210880 -0.192961\n",
            "V4     -0.105260 -2.140736e-16 -2.073183e-16  ...  7.665318e-18  0.098732  0.133447\n",
            "V5      0.173072  6.167259e-16  5.004644e-16  ... -4.119485e-16 -0.386356 -0.094974\n",
            "V6     -0.063016  1.400280e-16  4.808034e-16  ...  2.263163e-16  0.215981 -0.043643\n",
            "V7      0.084714  7.653552e-17 -6.132396e-17  ... -6.689163e-17  0.397311 -0.187257\n",
            "V8     -0.036949 -9.685886e-17  1.822011e-17  ... -5.458923e-16 -0.103079  0.019875\n",
            "V9     -0.008660  3.861787e-18 -7.906508e-17  ...  8.733737e-16 -0.044246 -0.097733\n",
            "V10     0.030617  1.250085e-16 -1.342931e-16  ...  2.563814e-16 -0.101502 -0.216883\n",
            "V11    -0.247689  2.702935e-16  3.108998e-16  ... -3.232797e-16  0.000104  0.154876\n",
            "V12     0.124348  2.609481e-16 -3.069759e-16  ...  7.203259e-16 -0.009542 -0.260593\n",
            "V13    -0.065902 -5.787832e-17 -5.683699e-17  ...  1.047795e-15  0.005293 -0.004570\n",
            "V14    -0.098757  3.877798e-16 -3.970296e-16  ...  2.333427e-15  0.033751 -0.302544\n",
            "V15    -0.183453 -1.188317e-16  5.014316e-17  ... -9.712296e-16 -0.002986 -0.004223\n",
            "V16     0.011903  3.054388e-16  6.224569e-17  ...  6.716160e-16 -0.003910 -0.196539\n",
            "V17    -0.073297  7.459142e-17 -8.518953e-16  ... -2.040551e-16  0.007309 -0.326481\n",
            "V18     0.090438  1.779338e-16  1.986696e-16  ...  7.662402e-16  0.035650 -0.111485\n",
            "V19     0.028975  1.970489e-16  1.101108e-16  ... -1.320758e-15 -0.056151  0.034783\n",
            "V20    -0.050866 -5.093492e-17  5.530139e-17  ... -5.868833e-16  0.339403  0.020090\n",
            "V21     0.044736 -1.761751e-16  7.989076e-17  ...  2.654652e-16  0.105999  0.040413\n",
            "V22     0.144059  1.396839e-16  1.453048e-16  ... -5.990020e-16 -0.064801  0.000805\n",
            "V23     0.051142  1.978086e-16  1.622630e-16  ...  1.394885e-15 -0.112633 -0.002685\n",
            "V24    -0.016182 -4.408535e-17 -6.415198e-17  ... -2.607830e-16  0.005146 -0.007221\n",
            "V25    -0.233083 -2.051783e-16  1.404728e-16  ...  3.584659e-16 -0.047837  0.003308\n",
            "V26    -0.041407 -1.621141e-16  2.989657e-16  ... -3.056682e-16 -0.003208  0.004455\n",
            "V27    -0.005135  8.824412e-17 -6.045690e-16  ...  4.006068e-16  0.028825  0.017580\n",
            "V28    -0.009413  5.635496e-16 -5.549849e-16  ...  1.000000e+00  0.010258  0.009536\n",
            "Amount -0.010596 -2.277087e-01 -5.314089e-01  ...  1.025822e-02  1.000000  0.005632\n",
            "Class  -0.012323 -1.013473e-01  9.128865e-02  ...  9.536041e-03  0.005632  1.000000\n",
            "\n",
            "[31 rows x 31 columns]\n",
            "No. of fradulent 492\n",
            "No. of Normal Non fraudulent 284315\n"
          ],
          "name": "stdout"
        }
      ]
    },
    {
      "cell_type": "code",
      "metadata": {
        "id": "FENOFJJ7tmGy",
        "colab_type": "code",
        "colab": {
          "base_uri": "https://localhost:8080/",
          "height": 437
        },
        "outputId": "a7c43b31-9540-455a-e5a1-820f016a84e6"
      },
      "source": [
        "#Fraudulent Time with Amount\n",
        "sns.jointplot(x=\"Time\", y=\"Amount\",data=fr);\n",
        "\n"
      ],
      "execution_count": 8,
      "outputs": [
        {
          "output_type": "display_data",
          "data": {
            "image/png": "[encoded data removed]",
            "text/plain": [
              "<Figure size 432x432 with 3 Axes>"
            ]
          },
          "metadata": {
            "tags": []
          }
        }
      ]
    },
    {
      "cell_type": "code",
      "metadata": {
        "id": "AoTyXFKAWUtO",
        "colab_type": "code",
        "colab": {
          "base_uri": "https://localhost:8080/",
          "height": 437
        },
        "outputId": "5b15f24a-eb40-4ecf-cfcd-ac2688c2cd6a"
      },
      "source": [
        "#Non Fraudulent Time with Amount\n",
        "sns.jointplot(x=\"Time\", y=\"Amount\",data=nfr);\n"
      ],
      "execution_count": 9,
      "outputs": [
        {
          "output_type": "display_data",
          "data": {
            "image/png": "[encoded data removed]",
            "text/plain": [
              "<Figure size 432x432 with 3 Axes>"
            ]
          },
          "metadata": {
            "tags": []
          }
        }
      ]
    },
    {
      "cell_type": "code",
      "metadata": {
        "id": "Kot40ltQ1EDu",
        "colab_type": "code",
        "colab": {
          "base_uri": "https://localhost:8080/",
          "height": 365
        },
        "outputId": "da62f95e-4277-4a19-be50-4ad5bdff4866"
      },
      "source": [
        "#Plotting Fraud & Normal Amount with class\n",
        "sns.catplot(y=\"Amount\", x=\"Class\",kind=\"box\", data=df);"
      ],
      "execution_count": 10,
      "outputs": [
        {
          "output_type": "display_data",
          "data": {
            "image/png": "[encoded data removed]",
            "text/plain": [
              "<Figure size 360x360 with 1 Axes>"
            ]
          },
          "metadata": {
            "tags": []
          }
        }
      ]
    },
    {
      "cell_type": "code",
      "metadata": {
        "id": "f9Wvaef8ygaB",
        "colab_type": "code",
        "colab": {}
      },
      "source": [
        "#Import libraries for ML\n",
        "from sklearn import linear_model\n",
        "from sklearn.model_selection import train_test_split \n",
        "from sklearn.svm import SVC\n",
        "from sklearn.linear_model import LinearRegression, Ridge, Lasso\n",
        "from sklearn import svm\n",
        "from sklearn.ensemble import GradientBoostingRegressor\n",
        "from sklearn.ensemble import RandomForestRegressor\n",
        "from sklearn.linear_model import ElasticNet"
      ],
      "execution_count": 0,
      "outputs": []
    },
    {
      "cell_type": "code",
      "metadata": {
        "id": "81185UCv1Xun",
        "colab_type": "code",
        "colab": {
          "base_uri": "https://localhost:8080/",
          "height": 68
        },
        "outputId": "5fa97a62-1db7-441d-9e34-146fc5b002f9"
      },
      "source": [
        "x=df.iloc[:,:-1]   #All Col but last\n",
        "y=df['Class']   #Last Col\n",
        "X_train,X_test,Y_train,Y_test=train_test_split(x,y,test_size=0.35) #Train 65%, Test 35%\n",
        "print(pd.DataFrame({'Train':[len(X_train),len(Y_train)],'Test':[len(X_test),len(Y_test)]},index=['X','Y']))"
      ],
      "execution_count": 12,
      "outputs": [
        {
          "output_type": "stream",
          "text": [
            "    Train   Test\n",
            "X  185124  99683\n",
            "Y  185124  99683\n"
          ],
          "name": "stdout"
        }
      ]
    },
    {
      "cell_type": "code",
      "metadata": {
        "id": "BhMA6UYk5H1z",
        "colab_type": "code",
        "colab": {
          "base_uri": "https://localhost:8080/",
          "height": 88
        },
        "outputId": "d6cde580-91a1-4104-86b8-bd7210ca3635"
      },
      "source": [
        "#Logistic Regression\n",
        "logistic=linear_model.LogisticRegression(C=1e5)   #C is penalty parameter to avoid overfitting on training dataset, 1e5 is 10^5\n",
        "logistic.fit(X_train,Y_train)\n",
        "print('score: ',logistic.score(X_test,Y_test))"
      ],
      "execution_count": 13,
      "outputs": [
        {
          "output_type": "stream",
          "text": [
            "/usr/local/lib/python3.6/dist-packages/sklearn/linear_model/logistic.py:432: FutureWarning: Default solver will be changed to 'lbfgs' in 0.22. Specify a solver to silence this warning.\n",
            "  FutureWarning)\n"
          ],
          "name": "stderr"
        },
        {
          "output_type": "stream",
          "text": [
            "score:  0.9989867881183351\n"
          ],
          "name": "stdout"
        }
      ]
    },
    {
      "cell_type": "code",
      "metadata": {
        "id": "j4SnMNHWE52e",
        "colab_type": "code",
        "colab": {
          "base_uri": "https://localhost:8080/",
          "height": 34
        },
        "outputId": "70971148-4ea6-482a-d029-cec262388eaa"
      },
      "source": [
        "#Ridge Regression\n",
        "ridge=Ridge()\n",
        "ridge.fit(X_train, Y_train)\n",
        "print('score: ',ridge.score(X_test,Y_test))"
      ],
      "execution_count": 15,
      "outputs": [
        {
          "output_type": "stream",
          "text": [
            "score:  0.4966383331892162\n"
          ],
          "name": "stdout"
        }
      ]
    },
    {
      "cell_type": "code",
      "metadata": {
        "id": "CWzkvdQhpLyy",
        "colab_type": "code",
        "colab": {
          "base_uri": "https://localhost:8080/",
          "height": 34
        },
        "outputId": "b1ca2f9e-c6e1-411d-ea03-d2bfbc35a8b3"
      },
      "source": [
        "#Elastic Net\n",
        "ENreg = ElasticNet()\n",
        "ENreg.fit(X_train, Y_train)\n",
        "print('score: ',ENreg.score(X_test, Y_test))"
      ],
      "execution_count": 26,
      "outputs": [
        {
          "output_type": "stream",
          "text": [
            "score:  -5.463925327742203e-07\n"
          ],
          "name": "stdout"
        }
      ]
    },
    {
      "cell_type": "markdown",
      "metadata": {
        "id": "gryF499sX3L8",
        "colab_type": "text"
      },
      "source": [
        "Conclusion: Logistic Regression is performing much better than Ridge Regression & Elastic Net\n"
      ]
    }
  ]
}